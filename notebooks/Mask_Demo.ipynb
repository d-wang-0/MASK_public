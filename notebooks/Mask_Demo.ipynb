{
  "cells": [
    {
      "cell_type": "markdown",
      "metadata": {
        "id": "Wt-CLyAb0V0x"
      },
      "source": [
        "# Setup"
      ]
    },
    {
      "cell_type": "markdown",
      "metadata": {
        "id": "P9UGGdfxxRvO"
      },
      "source": [
        "## Clone Repo"
      ]
    },
    {
      "cell_type": "code",
      "execution_count": 1,
      "metadata": {
        "colab": {
          "base_uri": "https://localhost:8080/"
        },
        "id": "-xKlk-43v5fq",
        "outputId": "920a9dd5-5ef3-4355-febe-7e64425b593f"
      },
      "outputs": [
        {
          "name": "stdout",
          "output_type": "stream",
          "text": [
            "Cloning into 'mask_public'...\n",
            "remote: Enumerating objects: 821, done.\u001b[K\n",
            "remote: Counting objects: 100% (79/79), done.\u001b[K\n",
            "remote: Compressing objects: 100% (49/49), done.\u001b[K\n",
            "remote: Total 821 (delta 43), reused 60 (delta 30), pack-reused 742\u001b[K\n",
            "Receiving objects: 100% (821/821), 52.16 MiB | 13.02 MiB/s, done.\n",
            "Resolving deltas: 100% (445/445), done.\n",
            "/content/mask_public\n",
            "Branch 'colab' set up to track remote branch 'colab' from 'origin'.\n",
            "Switched to a new branch 'colab'\n",
            "Thu Aug 25 20:58:57 2022       \n",
            "+-----------------------------------------------------------------------------+\n",
            "| NVIDIA-SMI 460.32.03    Driver Version: 460.32.03    CUDA Version: 11.2     |\n",
            "|-------------------------------+----------------------+----------------------+\n",
            "| GPU  Name        Persistence-M| Bus-Id        Disp.A | Volatile Uncorr. ECC |\n",
            "| Fan  Temp  Perf  Pwr:Usage/Cap|         Memory-Usage | GPU-Util  Compute M. |\n",
            "|                               |                      |               MIG M. |\n",
            "|===============================+======================+======================|\n",
            "|   0  Tesla T4            Off  | 00000000:00:04.0 Off |                    0 |\n",
            "| N/A   65C    P8    12W /  70W |      0MiB / 15109MiB |      0%      Default |\n",
            "|                               |                      |                  N/A |\n",
            "+-------------------------------+----------------------+----------------------+\n",
            "                                                                               \n",
            "+-----------------------------------------------------------------------------+\n",
            "| Processes:                                                                  |\n",
            "|  GPU   GI   CI        PID   Type   Process name                  GPU Memory |\n",
            "|        ID   ID                                                   Usage      |\n",
            "|=============================================================================|\n",
            "|  No running processes found                                                 |\n",
            "+-----------------------------------------------------------------------------+\n"
          ]
        }
      ],
      "source": [
        "!git clone https://github.com/d-wang-0/mask_public.git\n",
        "%cd mask_public/\n",
        "!git checkout colab\n",
        "!nvidia-smi"
      ]
    },
    {
      "cell_type": "code",
      "execution_count": null,
      "metadata": {
        "colab": {
          "base_uri": "https://localhost:8080/"
        },
        "id": "qFGmgK1q0eeE",
        "outputId": "48feb1e9-e18b-4747-eb24-13d234dd6ebe"
      },
      "outputs": [],
      "source": [
        "!git pull"
      ]
    },
    {
      "cell_type": "markdown",
      "metadata": {
        "id": "yXlVZb9Jw5pJ"
      },
      "source": [
        "## Install Requirements"
      ]
    },
    {
      "cell_type": "code",
      "execution_count": 3,
      "metadata": {
        "colab": {
          "base_uri": "https://localhost:8080/",
          "height": 0
        },
        "id": "uYnjtrisw7xl",
        "outputId": "7b37f46a-0ad2-4e59-a833-7a903ce20463"
      },
      "outputs": [
        {
          "name": "stdout",
          "output_type": "stream",
          "text": [
            "Looking in indexes: https://pypi.org/simple, https://us-python.pkg.dev/colab-wheels/public/simple/\n",
            "Collecting sphinx_rtd_theme==0.4.*\n",
            "  Downloading sphinx_rtd_theme-0.4.3-py2.py3-none-any.whl (6.4 MB)\n",
            "\u001b[K     |████████████████████████████████| 6.4 MB 27.8 MB/s \n",
            "\u001b[?25hRequirement already satisfied: Keras>=2.2.5 in /usr/local/lib/python3.7/dist-packages (from -r requirements.txt (line 2)) (2.8.0)\n",
            "Requirement already satisfied: nltk>=3.4.5 in /usr/local/lib/python3.7/dist-packages (from -r requirements.txt (line 3)) (3.7)\n",
            "Collecting numpy==1.17.0\n",
            "  Downloading numpy-1.17.0-cp37-cp37m-manylinux1_x86_64.whl (20.3 MB)\n",
            "\u001b[K     |████████████████████████████████| 20.3 MB 1.3 MB/s \n",
            "\u001b[?25hCollecting scikit-learn==0.21.3\n",
            "  Downloading scikit_learn-0.21.3-cp37-cp37m-manylinux1_x86_64.whl (6.7 MB)\n",
            "\u001b[K     |████████████████████████████████| 6.7 MB 56.1 MB/s \n",
            "\u001b[?25hCollecting sklearn-crfsuite==0.3.6\n",
            "  Downloading sklearn_crfsuite-0.3.6-py2.py3-none-any.whl (12 kB)\n",
            "Collecting Sphinx==1.8.5\n",
            "  Downloading Sphinx-1.8.5-py2.py3-none-any.whl (3.1 MB)\n",
            "\u001b[K     |████████████████████████████████| 3.1 MB 51.2 MB/s \n",
            "\u001b[?25hCollecting tensorflow==1.14.0\n",
            "  Downloading tensorflow-1.14.0-cp37-cp37m-manylinux1_x86_64.whl (109.3 MB)\n",
            "\u001b[K     |████████████████████████████████| 109.3 MB 59 kB/s \n",
            "\u001b[?25hCollecting tqdm==4.34.0\n",
            "  Downloading tqdm-4.34.0-py2.py3-none-any.whl (50 kB)\n",
            "\u001b[K     |████████████████████████████████| 50 kB 7.4 MB/s \n",
            "\u001b[?25hCollecting tensorflow_hub==0.7.0\n",
            "  Downloading tensorflow_hub-0.7.0-py2.py3-none-any.whl (89 kB)\n",
            "\u001b[K     |████████████████████████████████| 89 kB 10.1 MB/s \n",
            "\u001b[?25hCollecting attrs==19.1.0\n",
            "  Downloading attrs-19.1.0-py2.py3-none-any.whl (35 kB)\n",
            "Collecting python-crfsuite==0.9.6\n",
            "  Downloading python_crfsuite-0.9.6-cp37-cp37m-manylinux1_x86_64.whl (749 kB)\n",
            "\u001b[K     |████████████████████████████████| 749 kB 57.1 MB/s \n",
            "\u001b[?25hCollecting pytest==5.1.1\n",
            "  Downloading pytest-5.1.1-py3-none-any.whl (223 kB)\n",
            "\u001b[K     |████████████████████████████████| 223 kB 66.5 MB/s \n",
            "\u001b[?25hCollecting pylint==2.4.4\n",
            "  Downloading pylint-2.4.4-py3-none-any.whl (302 kB)\n",
            "\u001b[K     |████████████████████████████████| 302 kB 55.2 MB/s \n",
            "\u001b[?25hRequirement already satisfied: joblib>=0.11 in /usr/local/lib/python3.7/dist-packages (from scikit-learn==0.21.3->-r requirements.txt (line 5)) (1.1.0)\n",
            "Requirement already satisfied: scipy>=0.17.0 in /usr/local/lib/python3.7/dist-packages (from scikit-learn==0.21.3->-r requirements.txt (line 5)) (1.7.3)\n",
            "Requirement already satisfied: six in /usr/local/lib/python3.7/dist-packages (from sklearn-crfsuite==0.3.6->-r requirements.txt (line 6)) (1.15.0)\n",
            "Requirement already satisfied: tabulate in /usr/local/lib/python3.7/dist-packages (from sklearn-crfsuite==0.3.6->-r requirements.txt (line 6)) (0.8.10)\n",
            "Requirement already satisfied: Jinja2>=2.3 in /usr/local/lib/python3.7/dist-packages (from Sphinx==1.8.5->-r requirements.txt (line 7)) (2.11.3)\n",
            "Requirement already satisfied: snowballstemmer>=1.1 in /usr/local/lib/python3.7/dist-packages (from Sphinx==1.8.5->-r requirements.txt (line 7)) (2.2.0)\n",
            "Requirement already satisfied: imagesize in /usr/local/lib/python3.7/dist-packages (from Sphinx==1.8.5->-r requirements.txt (line 7)) (1.4.1)\n",
            "Requirement already satisfied: babel!=2.0,>=1.3 in /usr/local/lib/python3.7/dist-packages (from Sphinx==1.8.5->-r requirements.txt (line 7)) (2.10.3)\n",
            "Requirement already satisfied: sphinxcontrib-websupport in /usr/local/lib/python3.7/dist-packages (from Sphinx==1.8.5->-r requirements.txt (line 7)) (1.2.4)\n",
            "Requirement already satisfied: requests>=2.0.0 in /usr/local/lib/python3.7/dist-packages (from Sphinx==1.8.5->-r requirements.txt (line 7)) (2.23.0)\n",
            "Requirement already satisfied: docutils>=0.11 in /usr/local/lib/python3.7/dist-packages (from Sphinx==1.8.5->-r requirements.txt (line 7)) (0.17.1)\n",
            "Requirement already satisfied: packaging in /usr/local/lib/python3.7/dist-packages (from Sphinx==1.8.5->-r requirements.txt (line 7)) (21.3)\n",
            "Requirement already satisfied: Pygments>=2.0 in /usr/local/lib/python3.7/dist-packages (from Sphinx==1.8.5->-r requirements.txt (line 7)) (2.6.1)\n",
            "Requirement already satisfied: alabaster<0.8,>=0.7 in /usr/local/lib/python3.7/dist-packages (from Sphinx==1.8.5->-r requirements.txt (line 7)) (0.7.12)\n",
            "Requirement already satisfied: setuptools in /usr/local/lib/python3.7/dist-packages (from Sphinx==1.8.5->-r requirements.txt (line 7)) (57.4.0)\n",
            "Requirement already satisfied: protobuf>=3.6.1 in /usr/local/lib/python3.7/dist-packages (from tensorflow==1.14.0->-r requirements.txt (line 8)) (3.17.3)\n",
            "Requirement already satisfied: grpcio>=1.8.6 in /usr/local/lib/python3.7/dist-packages (from tensorflow==1.14.0->-r requirements.txt (line 8)) (1.47.0)\n",
            "Requirement already satisfied: wheel>=0.26 in /usr/local/lib/python3.7/dist-packages (from tensorflow==1.14.0->-r requirements.txt (line 8)) (0.37.1)\n",
            "Requirement already satisfied: wrapt>=1.11.1 in /usr/local/lib/python3.7/dist-packages (from tensorflow==1.14.0->-r requirements.txt (line 8)) (1.14.1)\n",
            "Requirement already satisfied: absl-py>=0.7.0 in /usr/local/lib/python3.7/dist-packages (from tensorflow==1.14.0->-r requirements.txt (line 8)) (1.2.0)\n",
            "Requirement already satisfied: google-pasta>=0.1.6 in /usr/local/lib/python3.7/dist-packages (from tensorflow==1.14.0->-r requirements.txt (line 8)) (0.2.0)\n",
            "Collecting tensorboard<1.15.0,>=1.14.0\n",
            "  Downloading tensorboard-1.14.0-py3-none-any.whl (3.1 MB)\n",
            "\u001b[K     |████████████████████████████████| 3.1 MB 50.6 MB/s \n",
            "\u001b[?25hRequirement already satisfied: keras-preprocessing>=1.0.5 in /usr/local/lib/python3.7/dist-packages (from tensorflow==1.14.0->-r requirements.txt (line 8)) (1.1.2)\n",
            "Collecting tensorflow-estimator<1.15.0rc0,>=1.14.0rc0\n",
            "  Downloading tensorflow_estimator-1.14.0-py2.py3-none-any.whl (488 kB)\n",
            "\u001b[K     |████████████████████████████████| 488 kB 73.2 MB/s \n",
            "\u001b[?25hRequirement already satisfied: termcolor>=1.1.0 in /usr/local/lib/python3.7/dist-packages (from tensorflow==1.14.0->-r requirements.txt (line 8)) (1.1.0)\n",
            "Collecting keras-applications>=1.0.6\n",
            "  Downloading Keras_Applications-1.0.8-py3-none-any.whl (50 kB)\n",
            "\u001b[K     |████████████████████████████████| 50 kB 8.0 MB/s \n",
            "\u001b[?25hRequirement already satisfied: astor>=0.6.0 in /usr/local/lib/python3.7/dist-packages (from tensorflow==1.14.0->-r requirements.txt (line 8)) (0.8.1)\n",
            "Requirement already satisfied: gast>=0.2.0 in /usr/local/lib/python3.7/dist-packages (from tensorflow==1.14.0->-r requirements.txt (line 8)) (0.5.3)\n",
            "Requirement already satisfied: importlib-metadata>=0.12 in /usr/local/lib/python3.7/dist-packages (from pytest==5.1.1->-r requirements.txt (line 13)) (4.12.0)\n",
            "Requirement already satisfied: more-itertools>=4.0.0 in /usr/local/lib/python3.7/dist-packages (from pytest==5.1.1->-r requirements.txt (line 13)) (8.14.0)\n",
            "Collecting pluggy<1.0,>=0.12\n",
            "  Downloading pluggy-0.13.1-py2.py3-none-any.whl (18 kB)\n",
            "Requirement already satisfied: atomicwrites>=1.0 in /usr/local/lib/python3.7/dist-packages (from pytest==5.1.1->-r requirements.txt (line 13)) (1.4.1)\n",
            "Requirement already satisfied: wcwidth in /usr/local/lib/python3.7/dist-packages (from pytest==5.1.1->-r requirements.txt (line 13)) (0.2.5)\n",
            "Requirement already satisfied: py>=1.5.0 in /usr/local/lib/python3.7/dist-packages (from pytest==5.1.1->-r requirements.txt (line 13)) (1.11.0)\n",
            "Collecting astroid<2.4,>=2.3.0\n",
            "  Downloading astroid-2.3.3-py3-none-any.whl (205 kB)\n",
            "\u001b[K     |████████████████████████████████| 205 kB 68.5 MB/s \n",
            "\u001b[?25hCollecting isort<5,>=4.2.5\n",
            "  Downloading isort-4.3.21-py2.py3-none-any.whl (42 kB)\n",
            "\u001b[K     |████████████████████████████████| 42 kB 1.1 MB/s \n",
            "\u001b[?25hCollecting mccabe<0.7,>=0.6\n",
            "  Downloading mccabe-0.6.1-py2.py3-none-any.whl (8.6 kB)\n",
            "Requirement already satisfied: click in /usr/local/lib/python3.7/dist-packages (from nltk>=3.4.5->-r requirements.txt (line 3)) (7.1.2)\n",
            "Requirement already satisfied: regex>=2021.8.3 in /usr/local/lib/python3.7/dist-packages (from nltk>=3.4.5->-r requirements.txt (line 3)) (2022.6.2)\n",
            "Collecting typed-ast<1.5,>=1.4.0\n",
            "  Downloading typed_ast-1.4.3-cp37-cp37m-manylinux1_x86_64.whl (743 kB)\n",
            "\u001b[K     |████████████████████████████████| 743 kB 57.4 MB/s \n",
            "\u001b[?25hCollecting wrapt>=1.11.1\n",
            "  Downloading wrapt-1.11.2.tar.gz (27 kB)\n",
            "Collecting lazy-object-proxy==1.4.*\n",
            "  Downloading lazy_object_proxy-1.4.3-cp37-cp37m-manylinux1_x86_64.whl (56 kB)\n",
            "\u001b[K     |████████████████████████████████| 56 kB 5.4 MB/s \n",
            "\u001b[?25hRequirement already satisfied: pytz>=2015.7 in /usr/local/lib/python3.7/dist-packages (from babel!=2.0,>=1.3->Sphinx==1.8.5->-r requirements.txt (line 7)) (2022.2.1)\n",
            "Requirement already satisfied: typing-extensions>=3.6.4 in /usr/local/lib/python3.7/dist-packages (from importlib-metadata>=0.12->pytest==5.1.1->-r requirements.txt (line 13)) (4.1.1)\n",
            "Requirement already satisfied: zipp>=0.5 in /usr/local/lib/python3.7/dist-packages (from importlib-metadata>=0.12->pytest==5.1.1->-r requirements.txt (line 13)) (3.8.1)\n",
            "Requirement already satisfied: MarkupSafe>=0.23 in /usr/local/lib/python3.7/dist-packages (from Jinja2>=2.3->Sphinx==1.8.5->-r requirements.txt (line 7)) (2.0.1)\n",
            "Requirement already satisfied: h5py in /usr/local/lib/python3.7/dist-packages (from keras-applications>=1.0.6->tensorflow==1.14.0->-r requirements.txt (line 8)) (3.1.0)\n",
            "Requirement already satisfied: idna<3,>=2.5 in /usr/local/lib/python3.7/dist-packages (from requests>=2.0.0->Sphinx==1.8.5->-r requirements.txt (line 7)) (2.10)\n",
            "Requirement already satisfied: chardet<4,>=3.0.2 in /usr/local/lib/python3.7/dist-packages (from requests>=2.0.0->Sphinx==1.8.5->-r requirements.txt (line 7)) (3.0.4)\n",
            "Requirement already satisfied: certifi>=2017.4.17 in /usr/local/lib/python3.7/dist-packages (from requests>=2.0.0->Sphinx==1.8.5->-r requirements.txt (line 7)) (2022.6.15)\n",
            "Requirement already satisfied: urllib3!=1.25.0,!=1.25.1,<1.26,>=1.21.1 in /usr/local/lib/python3.7/dist-packages (from requests>=2.0.0->Sphinx==1.8.5->-r requirements.txt (line 7)) (1.24.3)\n",
            "Requirement already satisfied: markdown>=2.6.8 in /usr/local/lib/python3.7/dist-packages (from tensorboard<1.15.0,>=1.14.0->tensorflow==1.14.0->-r requirements.txt (line 8)) (3.4.1)\n",
            "Requirement already satisfied: werkzeug>=0.11.15 in /usr/local/lib/python3.7/dist-packages (from tensorboard<1.15.0,>=1.14.0->tensorflow==1.14.0->-r requirements.txt (line 8)) (1.0.1)\n",
            "Requirement already satisfied: cached-property in /usr/local/lib/python3.7/dist-packages (from h5py->keras-applications>=1.0.6->tensorflow==1.14.0->-r requirements.txt (line 8)) (1.5.2)\n",
            "Requirement already satisfied: pyparsing!=3.0.5,>=2.0.2 in /usr/local/lib/python3.7/dist-packages (from packaging->Sphinx==1.8.5->-r requirements.txt (line 7)) (3.0.9)\n",
            "Requirement already satisfied: sphinxcontrib-serializinghtml in /usr/local/lib/python3.7/dist-packages (from sphinxcontrib-websupport->Sphinx==1.8.5->-r requirements.txt (line 7)) (1.1.5)\n",
            "Building wheels for collected packages: wrapt\n",
            "  Building wheel for wrapt (setup.py) ... \u001b[?25l\u001b[?25hdone\n",
            "  Created wheel for wrapt: filename=wrapt-1.11.2-cp37-cp37m-linux_x86_64.whl size=68515 sha256=db8f36ab1e02b28e8304e73c99f0801cf6f7a91c95816e6c26670aff4c471afe\n",
            "  Stored in directory: /root/.cache/pip/wheels/23/5f/62/304b411f20be41821465a82bc98baabc5e68c3cdd1eb99db71\n",
            "Successfully built wrapt\n",
            "Installing collected packages: numpy, wrapt, typed-ast, lazy-object-proxy, tqdm, tensorflow-estimator, tensorboard, Sphinx, python-crfsuite, pluggy, mccabe, keras-applications, isort, attrs, astroid, tensorflow-hub, tensorflow, sphinx-rtd-theme, sklearn-crfsuite, scikit-learn, pytest, pylint\n",
            "  Attempting uninstall: numpy\n",
            "    Found existing installation: numpy 1.21.6\n",
            "    Uninstalling numpy-1.21.6:\n",
            "      Successfully uninstalled numpy-1.21.6\n",
            "  Attempting uninstall: wrapt\n",
            "    Found existing installation: wrapt 1.14.1\n",
            "    Uninstalling wrapt-1.14.1:\n",
            "      Successfully uninstalled wrapt-1.14.1\n",
            "  Attempting uninstall: tqdm\n",
            "    Found existing installation: tqdm 4.64.0\n",
            "    Uninstalling tqdm-4.64.0:\n",
            "      Successfully uninstalled tqdm-4.64.0\n",
            "  Attempting uninstall: tensorflow-estimator\n",
            "    Found existing installation: tensorflow-estimator 2.8.0\n",
            "    Uninstalling tensorflow-estimator-2.8.0:\n",
            "      Successfully uninstalled tensorflow-estimator-2.8.0\n",
            "  Attempting uninstall: tensorboard\n",
            "    Found existing installation: tensorboard 2.8.0\n",
            "    Uninstalling tensorboard-2.8.0:\n",
            "      Successfully uninstalled tensorboard-2.8.0\n",
            "  Attempting uninstall: Sphinx\n",
            "    Found existing installation: Sphinx 1.8.6\n",
            "    Uninstalling Sphinx-1.8.6:\n",
            "      Successfully uninstalled Sphinx-1.8.6\n",
            "  Attempting uninstall: pluggy\n",
            "    Found existing installation: pluggy 0.7.1\n",
            "    Uninstalling pluggy-0.7.1:\n",
            "      Successfully uninstalled pluggy-0.7.1\n",
            "  Attempting uninstall: attrs\n",
            "    Found existing installation: attrs 22.1.0\n",
            "    Uninstalling attrs-22.1.0:\n",
            "      Successfully uninstalled attrs-22.1.0\n",
            "  Attempting uninstall: tensorflow-hub\n",
            "    Found existing installation: tensorflow-hub 0.12.0\n",
            "    Uninstalling tensorflow-hub-0.12.0:\n",
            "      Successfully uninstalled tensorflow-hub-0.12.0\n",
            "  Attempting uninstall: tensorflow\n",
            "    Found existing installation: tensorflow 2.8.2+zzzcolab20220719082949\n",
            "    Uninstalling tensorflow-2.8.2+zzzcolab20220719082949:\n",
            "      Successfully uninstalled tensorflow-2.8.2+zzzcolab20220719082949\n",
            "  Attempting uninstall: scikit-learn\n",
            "    Found existing installation: scikit-learn 1.0.2\n",
            "    Uninstalling scikit-learn-1.0.2:\n",
            "      Successfully uninstalled scikit-learn-1.0.2\n",
            "  Attempting uninstall: pytest\n",
            "    Found existing installation: pytest 3.6.4\n",
            "    Uninstalling pytest-3.6.4:\n",
            "      Successfully uninstalled pytest-3.6.4\n",
            "\u001b[31mERROR: pip's dependency resolver does not currently take into account all the packages that are installed. This behaviour is the source of the following dependency conflicts.\n",
            "yellowbrick 1.4 requires scikit-learn>=1.0.0, but you have scikit-learn 0.21.3 which is incompatible.\n",
            "xarray 0.20.2 requires numpy>=1.18, but you have numpy 1.17.0 which is incompatible.\n",
            "xarray-einstats 0.2.2 requires numpy>=1.21, but you have numpy 1.17.0 which is incompatible.\n",
            "tables 3.7.0 requires numpy>=1.19.0, but you have numpy 1.17.0 which is incompatible.\n",
            "spacy 3.4.1 requires tqdm<5.0.0,>=4.38.0, but you have tqdm 4.34.0 which is incompatible.\n",
            "pywavelets 1.3.0 requires numpy>=1.17.3, but you have numpy 1.17.0 which is incompatible.\n",
            "prophet 1.1 requires tqdm>=4.36.1, but you have tqdm 4.34.0 which is incompatible.\n",
            "plotnine 0.8.0 requires numpy>=1.19.0, but you have numpy 1.17.0 which is incompatible.\n",
            "panel 0.12.1 requires tqdm>=4.48.0, but you have tqdm 4.34.0 which is incompatible.\n",
            "pandas 1.3.5 requires numpy>=1.17.3; platform_machine != \"aarch64\" and platform_machine != \"arm64\" and python_version < \"3.10\", but you have numpy 1.17.0 which is incompatible.\n",
            "numba 0.56.0 requires numpy<1.23,>=1.18, but you have numpy 1.17.0 which is incompatible.\n",
            "kapre 0.3.7 requires numpy>=1.18.5, but you have numpy 1.17.0 which is incompatible.\n",
            "kapre 0.3.7 requires tensorflow>=2.0.0, but you have tensorflow 1.14.0 which is incompatible.\n",
            "jaxlib 0.3.14+cuda11.cudnn805 requires numpy>=1.19, but you have numpy 1.17.0 which is incompatible.\n",
            "jax 0.3.14 requires numpy>=1.19, but you have numpy 1.17.0 which is incompatible.\n",
            "imbalanced-learn 0.8.1 requires scikit-learn>=0.24, but you have scikit-learn 0.21.3 which is incompatible.\n",
            "gym 0.25.1 requires numpy>=1.18.0, but you have numpy 1.17.0 which is incompatible.\n",
            "cmdstanpy 1.0.4 requires numpy>=1.21, but you have numpy 1.17.0 which is incompatible.\u001b[0m\n",
            "Successfully installed Sphinx-1.8.5 astroid-2.3.3 attrs-19.1.0 isort-4.3.21 keras-applications-1.0.8 lazy-object-proxy-1.4.3 mccabe-0.6.1 numpy-1.17.0 pluggy-0.13.1 pylint-2.4.4 pytest-5.1.1 python-crfsuite-0.9.6 scikit-learn-0.21.3 sklearn-crfsuite-0.3.6 sphinx-rtd-theme-0.4.3 tensorboard-1.14.0 tensorflow-1.14.0 tensorflow-estimator-1.14.0 tensorflow-hub-0.7.0 tqdm-4.34.0 typed-ast-1.4.3 wrapt-1.11.2\n"
          ]
        },
        {
          "data": {
            "application/vnd.colab-display-data+json": {
              "pip_warning": {
                "packages": [
                  "numpy"
                ]
              }
            }
          },
          "metadata": {},
          "output_type": "display_data"
        }
      ],
      "source": [
        "!pip install -r requirements.txt"
      ]
    },
    {
      "cell_type": "code",
      "execution_count": 4,
      "metadata": {
        "colab": {
          "base_uri": "https://localhost:8080/"
        },
        "id": "vOfm0Fm5w-uJ",
        "outputId": "3c43d997-0289-4186-beed-26ff50bb6b40"
      },
      "outputs": [
        {
          "name": "stdout",
          "output_type": "stream",
          "text": [
            "Looking in indexes: https://pypi.org/simple, https://us-python.pkg.dev/colab-wheels/public/simple/\n",
            "Collecting keras==2.6.0\n",
            "  Downloading keras-2.6.0-py2.py3-none-any.whl (1.3 MB)\n",
            "\u001b[K     |████████████████████████████████| 1.3 MB 27.9 MB/s \n",
            "\u001b[?25hInstalling collected packages: keras\n",
            "  Attempting uninstall: keras\n",
            "    Found existing installation: keras 2.8.0\n",
            "    Uninstalling keras-2.8.0:\n",
            "      Successfully uninstalled keras-2.8.0\n",
            "Successfully installed keras-2.6.0\n"
          ]
        }
      ],
      "source": [
        "!pip install keras==2.6.0"
      ]
    },
    {
      "cell_type": "code",
      "execution_count": 5,
      "metadata": {
        "colab": {
          "base_uri": "https://localhost:8080/"
        },
        "id": "Z54T9O4WxA2g",
        "outputId": "b859ae9d-2420-4a81-e067-4f4ebf94a2ec"
      },
      "outputs": [
        {
          "name": "stdout",
          "output_type": "stream",
          "text": [
            "Looking in indexes: https://pypi.org/simple, https://us-python.pkg.dev/colab-wheels/public/simple/\n",
            "Requirement already satisfied: tensorflow==1.14.0 in /usr/local/lib/python3.7/dist-packages (1.14.0)\n",
            "Requirement already satisfied: absl-py>=0.7.0 in /usr/local/lib/python3.7/dist-packages (from tensorflow==1.14.0) (1.2.0)\n",
            "Requirement already satisfied: gast>=0.2.0 in /usr/local/lib/python3.7/dist-packages (from tensorflow==1.14.0) (0.5.3)\n",
            "Requirement already satisfied: google-pasta>=0.1.6 in /usr/local/lib/python3.7/dist-packages (from tensorflow==1.14.0) (0.2.0)\n",
            "Requirement already satisfied: numpy<2.0,>=1.14.5 in /usr/local/lib/python3.7/dist-packages (from tensorflow==1.14.0) (1.17.0)\n",
            "Requirement already satisfied: keras-preprocessing>=1.0.5 in /usr/local/lib/python3.7/dist-packages (from tensorflow==1.14.0) (1.1.2)\n",
            "Requirement already satisfied: tensorflow-estimator<1.15.0rc0,>=1.14.0rc0 in /usr/local/lib/python3.7/dist-packages (from tensorflow==1.14.0) (1.14.0)\n",
            "Requirement already satisfied: termcolor>=1.1.0 in /usr/local/lib/python3.7/dist-packages (from tensorflow==1.14.0) (1.1.0)\n",
            "Requirement already satisfied: tensorboard<1.15.0,>=1.14.0 in /usr/local/lib/python3.7/dist-packages (from tensorflow==1.14.0) (1.14.0)\n",
            "Requirement already satisfied: grpcio>=1.8.6 in /usr/local/lib/python3.7/dist-packages (from tensorflow==1.14.0) (1.47.0)\n",
            "Requirement already satisfied: wrapt>=1.11.1 in /usr/local/lib/python3.7/dist-packages (from tensorflow==1.14.0) (1.11.2)\n",
            "Requirement already satisfied: protobuf>=3.6.1 in /usr/local/lib/python3.7/dist-packages (from tensorflow==1.14.0) (3.17.3)\n",
            "Requirement already satisfied: wheel>=0.26 in /usr/local/lib/python3.7/dist-packages (from tensorflow==1.14.0) (0.37.1)\n",
            "Requirement already satisfied: astor>=0.6.0 in /usr/local/lib/python3.7/dist-packages (from tensorflow==1.14.0) (0.8.1)\n",
            "Requirement already satisfied: keras-applications>=1.0.6 in /usr/local/lib/python3.7/dist-packages (from tensorflow==1.14.0) (1.0.8)\n",
            "Requirement already satisfied: six>=1.10.0 in /usr/local/lib/python3.7/dist-packages (from tensorflow==1.14.0) (1.15.0)\n",
            "Requirement already satisfied: h5py in /usr/local/lib/python3.7/dist-packages (from keras-applications>=1.0.6->tensorflow==1.14.0) (3.1.0)\n",
            "Requirement already satisfied: werkzeug>=0.11.15 in /usr/local/lib/python3.7/dist-packages (from tensorboard<1.15.0,>=1.14.0->tensorflow==1.14.0) (1.0.1)\n",
            "Requirement already satisfied: markdown>=2.6.8 in /usr/local/lib/python3.7/dist-packages (from tensorboard<1.15.0,>=1.14.0->tensorflow==1.14.0) (3.4.1)\n",
            "Requirement already satisfied: setuptools>=41.0.0 in /usr/local/lib/python3.7/dist-packages (from tensorboard<1.15.0,>=1.14.0->tensorflow==1.14.0) (57.4.0)\n",
            "Requirement already satisfied: importlib-metadata>=4.4 in /usr/local/lib/python3.7/dist-packages (from markdown>=2.6.8->tensorboard<1.15.0,>=1.14.0->tensorflow==1.14.0) (4.12.0)\n",
            "Requirement already satisfied: typing-extensions>=3.6.4 in /usr/local/lib/python3.7/dist-packages (from importlib-metadata>=4.4->markdown>=2.6.8->tensorboard<1.15.0,>=1.14.0->tensorflow==1.14.0) (4.1.1)\n",
            "Requirement already satisfied: zipp>=0.5 in /usr/local/lib/python3.7/dist-packages (from importlib-metadata>=4.4->markdown>=2.6.8->tensorboard<1.15.0,>=1.14.0->tensorflow==1.14.0) (3.8.1)\n",
            "Requirement already satisfied: cached-property in /usr/local/lib/python3.7/dist-packages (from h5py->keras-applications>=1.0.6->tensorflow==1.14.0) (1.5.2)\n",
            "Looking in indexes: https://pypi.org/simple, https://us-python.pkg.dev/colab-wheels/public/simple/\n",
            "Collecting tensorflow_gpu==1.14\n",
            "  Downloading tensorflow_gpu-1.14.0-cp37-cp37m-manylinux1_x86_64.whl (377.1 MB)\n",
            "\u001b[K     |████████████████████████████████| 377.1 MB 8.5 kB/s \n",
            "\u001b[?25hRequirement already satisfied: keras-applications>=1.0.6 in /usr/local/lib/python3.7/dist-packages (from tensorflow_gpu==1.14) (1.0.8)\n",
            "Requirement already satisfied: tensorboard<1.15.0,>=1.14.0 in /usr/local/lib/python3.7/dist-packages (from tensorflow_gpu==1.14) (1.14.0)\n",
            "Requirement already satisfied: gast>=0.2.0 in /usr/local/lib/python3.7/dist-packages (from tensorflow_gpu==1.14) (0.5.3)\n",
            "Requirement already satisfied: google-pasta>=0.1.6 in /usr/local/lib/python3.7/dist-packages (from tensorflow_gpu==1.14) (0.2.0)\n",
            "Requirement already satisfied: astor>=0.6.0 in /usr/local/lib/python3.7/dist-packages (from tensorflow_gpu==1.14) (0.8.1)\n",
            "Requirement already satisfied: grpcio>=1.8.6 in /usr/local/lib/python3.7/dist-packages (from tensorflow_gpu==1.14) (1.47.0)\n",
            "Requirement already satisfied: numpy<2.0,>=1.14.5 in /usr/local/lib/python3.7/dist-packages (from tensorflow_gpu==1.14) (1.17.0)\n",
            "Requirement already satisfied: wrapt>=1.11.1 in /usr/local/lib/python3.7/dist-packages (from tensorflow_gpu==1.14) (1.11.2)\n",
            "Requirement already satisfied: wheel>=0.26 in /usr/local/lib/python3.7/dist-packages (from tensorflow_gpu==1.14) (0.37.1)\n",
            "Requirement already satisfied: absl-py>=0.7.0 in /usr/local/lib/python3.7/dist-packages (from tensorflow_gpu==1.14) (1.2.0)\n",
            "Requirement already satisfied: protobuf>=3.6.1 in /usr/local/lib/python3.7/dist-packages (from tensorflow_gpu==1.14) (3.17.3)\n",
            "Requirement already satisfied: termcolor>=1.1.0 in /usr/local/lib/python3.7/dist-packages (from tensorflow_gpu==1.14) (1.1.0)\n",
            "Requirement already satisfied: six>=1.10.0 in /usr/local/lib/python3.7/dist-packages (from tensorflow_gpu==1.14) (1.15.0)\n",
            "Requirement already satisfied: tensorflow-estimator<1.15.0rc0,>=1.14.0rc0 in /usr/local/lib/python3.7/dist-packages (from tensorflow_gpu==1.14) (1.14.0)\n",
            "Requirement already satisfied: keras-preprocessing>=1.0.5 in /usr/local/lib/python3.7/dist-packages (from tensorflow_gpu==1.14) (1.1.2)\n",
            "Requirement already satisfied: h5py in /usr/local/lib/python3.7/dist-packages (from keras-applications>=1.0.6->tensorflow_gpu==1.14) (3.1.0)\n",
            "Requirement already satisfied: werkzeug>=0.11.15 in /usr/local/lib/python3.7/dist-packages (from tensorboard<1.15.0,>=1.14.0->tensorflow_gpu==1.14) (1.0.1)\n",
            "Requirement already satisfied: markdown>=2.6.8 in /usr/local/lib/python3.7/dist-packages (from tensorboard<1.15.0,>=1.14.0->tensorflow_gpu==1.14) (3.4.1)\n",
            "Requirement already satisfied: setuptools>=41.0.0 in /usr/local/lib/python3.7/dist-packages (from tensorboard<1.15.0,>=1.14.0->tensorflow_gpu==1.14) (57.4.0)\n",
            "Requirement already satisfied: importlib-metadata>=4.4 in /usr/local/lib/python3.7/dist-packages (from markdown>=2.6.8->tensorboard<1.15.0,>=1.14.0->tensorflow_gpu==1.14) (4.12.0)\n",
            "Requirement already satisfied: zipp>=0.5 in /usr/local/lib/python3.7/dist-packages (from importlib-metadata>=4.4->markdown>=2.6.8->tensorboard<1.15.0,>=1.14.0->tensorflow_gpu==1.14) (3.8.1)\n",
            "Requirement already satisfied: typing-extensions>=3.6.4 in /usr/local/lib/python3.7/dist-packages (from importlib-metadata>=4.4->markdown>=2.6.8->tensorboard<1.15.0,>=1.14.0->tensorflow_gpu==1.14) (4.1.1)\n",
            "Requirement already satisfied: cached-property in /usr/local/lib/python3.7/dist-packages (from h5py->keras-applications>=1.0.6->tensorflow_gpu==1.14) (1.5.2)\n",
            "Installing collected packages: tensorflow-gpu\n",
            "Successfully installed tensorflow-gpu-1.14.0\n"
          ]
        }
      ],
      "source": [
        "!pip install tensorflow==1.14.0\n",
        "!pip install tensorflow_gpu==1.14"
      ]
    },
    {
      "cell_type": "code",
      "execution_count": 6,
      "metadata": {
        "colab": {
          "base_uri": "https://localhost:8080/"
        },
        "id": "BuLsgv9bxBKQ",
        "outputId": "cb1df340-4099-4af6-ca24-43384742847d"
      },
      "outputs": [
        {
          "name": "stdout",
          "output_type": "stream",
          "text": [
            "Looking in indexes: https://pypi.org/simple, https://us-python.pkg.dev/colab-wheels/public/simple/\n",
            "Collecting h5py==2.10\n",
            "  Downloading h5py-2.10.0-cp37-cp37m-manylinux1_x86_64.whl (2.9 MB)\n",
            "\u001b[K     |████████████████████████████████| 2.9 MB 32.0 MB/s \n",
            "\u001b[?25hRequirement already satisfied: six in /usr/local/lib/python3.7/dist-packages (from h5py==2.10) (1.15.0)\n",
            "Requirement already satisfied: numpy>=1.7 in /usr/local/lib/python3.7/dist-packages (from h5py==2.10) (1.17.0)\n",
            "Installing collected packages: h5py\n",
            "  Attempting uninstall: h5py\n",
            "    Found existing installation: h5py 3.1.0\n",
            "    Uninstalling h5py-3.1.0:\n",
            "      Successfully uninstalled h5py-3.1.0\n",
            "Successfully installed h5py-2.10.0\n"
          ]
        }
      ],
      "source": [
        "!pip install h5py==2.10\n",
        "# fix loading model? https://stackoverflow.com/questions/67236747/str-object-has-no-attribute-decode-for-tensorflow-in-python"
      ]
    },
    {
      "cell_type": "code",
      "execution_count": 7,
      "metadata": {
        "colab": {
          "base_uri": "https://localhost:8080/"
        },
        "id": "bTjVh31SxDIY",
        "outputId": "bb2daee6-0e54-4765-c6cf-27fe79d61d76"
      },
      "outputs": [
        {
          "name": "stdout",
          "output_type": "stream",
          "text": [
            "Looking in indexes: https://pypi.org/simple, https://us-python.pkg.dev/colab-wheels/public/simple/\n",
            "Requirement already satisfied: scikit-learn in /usr/local/lib/python3.7/dist-packages (0.21.3)\n",
            "Collecting scikit-learn\n",
            "  Downloading scikit_learn-1.0.2-cp37-cp37m-manylinux_2_17_x86_64.manylinux2014_x86_64.whl (24.8 MB)\n",
            "\u001b[K     |████████████████████████████████| 24.8 MB 1.6 MB/s \n",
            "\u001b[?25hRequirement already satisfied: numpy>=1.14.6 in /usr/local/lib/python3.7/dist-packages (from scikit-learn) (1.17.0)\n",
            "Requirement already satisfied: scipy>=1.1.0 in /usr/local/lib/python3.7/dist-packages (from scikit-learn) (1.7.3)\n",
            "Requirement already satisfied: joblib>=0.11 in /usr/local/lib/python3.7/dist-packages (from scikit-learn) (1.1.0)\n",
            "Requirement already satisfied: threadpoolctl>=2.0.0 in /usr/local/lib/python3.7/dist-packages (from scikit-learn) (3.1.0)\n",
            "Installing collected packages: scikit-learn\n",
            "  Attempting uninstall: scikit-learn\n",
            "    Found existing installation: scikit-learn 0.21.3\n",
            "    Uninstalling scikit-learn-0.21.3:\n",
            "      Successfully uninstalled scikit-learn-0.21.3\n",
            "\u001b[31mERROR: pip's dependency resolver does not currently take into account all the packages that are installed. This behaviour is the source of the following dependency conflicts.\n",
            "kapre 0.3.7 requires numpy>=1.18.5, but you have numpy 1.17.0 which is incompatible.\n",
            "kapre 0.3.7 requires tensorflow>=2.0.0, but you have tensorflow 1.14.0 which is incompatible.\u001b[0m\n",
            "Successfully installed scikit-learn-1.0.2\n"
          ]
        }
      ],
      "source": [
        "!pip install scikit-learn --upgrade"
      ]
    },
    {
      "cell_type": "code",
      "execution_count": 8,
      "metadata": {
        "colab": {
          "base_uri": "https://localhost:8080/"
        },
        "id": "KlteOelTRXtB",
        "outputId": "4fddd1b4-e5b4-4343-c076-949ab39103ca"
      },
      "outputs": [
        {
          "name": "stdout",
          "output_type": "stream",
          "text": [
            "Looking in indexes: https://pypi.org/simple, https://us-python.pkg.dev/colab-wheels/public/simple/\n",
            "Requirement already satisfied: gdown in /usr/local/lib/python3.7/dist-packages (4.4.0)\n",
            "Requirement already satisfied: tqdm in /usr/local/lib/python3.7/dist-packages (from gdown) (4.34.0)\n",
            "Requirement already satisfied: requests[socks] in /usr/local/lib/python3.7/dist-packages (from gdown) (2.23.0)\n",
            "Requirement already satisfied: beautifulsoup4 in /usr/local/lib/python3.7/dist-packages (from gdown) (4.6.3)\n",
            "Requirement already satisfied: six in /usr/local/lib/python3.7/dist-packages (from gdown) (1.15.0)\n",
            "Requirement already satisfied: filelock in /usr/local/lib/python3.7/dist-packages (from gdown) (3.8.0)\n",
            "Requirement already satisfied: certifi>=2017.4.17 in /usr/local/lib/python3.7/dist-packages (from requests[socks]->gdown) (2022.6.15)\n",
            "Requirement already satisfied: chardet<4,>=3.0.2 in /usr/local/lib/python3.7/dist-packages (from requests[socks]->gdown) (3.0.4)\n",
            "Requirement already satisfied: urllib3!=1.25.0,!=1.25.1,<1.26,>=1.21.1 in /usr/local/lib/python3.7/dist-packages (from requests[socks]->gdown) (1.24.3)\n",
            "Requirement already satisfied: idna<3,>=2.5 in /usr/local/lib/python3.7/dist-packages (from requests[socks]->gdown) (2.10)\n",
            "Requirement already satisfied: PySocks!=1.5.7,>=1.5.6 in /usr/local/lib/python3.7/dist-packages (from requests[socks]->gdown) (1.7.1)\n"
          ]
        }
      ],
      "source": [
        "!pip install gdown"
      ]
    },
    {
      "cell_type": "markdown",
      "metadata": {
        "id": "S-eK6gSL9HnJ"
      },
      "source": [
        "## Download some large files"
      ]
    },
    {
      "cell_type": "code",
      "execution_count": 9,
      "metadata": {
        "colab": {
          "base_uri": "https://localhost:8080/"
        },
        "id": "ueWie6vK9N48",
        "outputId": "8cd412c8-e0b5-4433-a262-7b935a4cfbf5"
      },
      "outputs": [
        {
          "name": "stdout",
          "output_type": "stream",
          "text": [
            "Downloading...\n",
            "From: https://drive.google.com/uc?id=1H_9jDgBlME0Xcb8Fp4M38l_Zdc4feHlH\n",
            "To: /content/mask_public/Models/NER_BiLSTM_ELMo_i2b2_pad_mask.h5\n",
            "100% 151M/151M [00:00<00:00, 180MB/s]\n",
            "Downloading...\n",
            "From: https://drive.google.com/uc?id=1XdZPz4sTvLx6g_PXKK0_37o_JsavbAZQ\n",
            "To: /content/mask_public/Models/NER_BiLSTM_ELMo_i2b2.h5\n",
            "100% 151M/151M [00:00<00:00, 283MB/s]\n"
          ]
        }
      ],
      "source": [
        "# Download some weights\n",
        "!gdown 1H_9jDgBlME0Xcb8Fp4M38l_Zdc4feHlH -O Models/\n",
        "!gdown 1XdZPz4sTvLx6g_PXKK0_37o_JsavbAZQ -O Models/"
      ]
    },
    {
      "cell_type": "markdown",
      "metadata": {
        "id": "DuHnduWLSDNp"
      },
      "source": [
        "### Download Dataset\n",
        "1. Download `2014_training-PHI-Gold-Set1.tar.gz` and `training-PHI-Gold-Set2.tar.gz` from the i2b2 dataset\n",
        "2. Upload them to google drive\n",
        "3. Share the files on drive so \"Anyone on the Internet with the link can view\"\n",
        "4. Paste links to the shared files here and it will be extracted and placed in the correct locations."
      ]
    },
    {
      "cell_type": "code",
      "execution_count": null,
      "metadata": {
        "colab": {
          "base_uri": "https://localhost:8080/",
          "height": 0
        },
        "id": "Va3IY8YE9-50",
        "outputId": "47242cd7-3502-4fd4-b9f1-e1e18ff8aebb"
      },
      "outputs": [],
      "source": [
        "import gdown\n",
        "url1 = \"\" #@param {type:\"string\"}\n",
        "gdown.download(url1, \"set1.tar.gz\", fuzzy=True)\n",
        "url2 = \"\" #@param {type:\"string\"}\n",
        "gdown.download(url2, \"set2.tar.gz\", fuzzy=True)"
      ]
    },
    {
      "cell_type": "code",
      "execution_count": 11,
      "metadata": {
        "id": "42phtvXX_LH1"
      },
      "outputs": [],
      "source": [
        "!rm dataset/input/*\n",
        "!tar -xf set1.tar.gz --strip=1 --directory dataset/input/ training-PHI-Gold-Set1/\n",
        "!tar -xf set2.tar.gz --strip=1 --directory dataset/input/ training-PHI-Gold-Set2/ "
      ]
    },
    {
      "cell_type": "markdown",
      "metadata": {
        "id": "Xdyr41aRxQ3Z"
      },
      "source": [
        "## Setup Google Drive (Optional)"
      ]
    },
    {
      "cell_type": "code",
      "execution_count": null,
      "metadata": {
        "colab": {
          "base_uri": "https://localhost:8080/"
        },
        "id": "-0fiY2HgxVFI",
        "outputId": "77895148-f221-4c3e-e1cc-541f3182e63c"
      },
      "outputs": [
        {
          "name": "stdout",
          "output_type": "stream",
          "text": [
            "Mounted at /content/gdrive\n"
          ]
        }
      ],
      "source": [
        "from google.colab import drive\n",
        "drive.mount('/content/gdrive')"
      ]
    },
    {
      "cell_type": "markdown",
      "metadata": {
        "id": "1IYyqrbtxvaQ"
      },
      "source": [
        "# Model"
      ]
    },
    {
      "cell_type": "markdown",
      "metadata": {
        "id": "39wDAUpMypPY"
      },
      "source": [
        "## Load Model"
      ]
    },
    {
      "cell_type": "code",
      "execution_count": 2,
      "metadata": {
        "colab": {
          "base_uri": "https://localhost:8080/"
        },
        "id": "cbNUAJdbxxPp",
        "outputId": "33721e1c-27d5-428e-c605-e0c049a7e314"
      },
      "outputs": [
        {
          "name": "stdout",
          "output_type": "stream",
          "text": [
            "Loaded 790 documents\n",
            "Loaded 34643 sequences\n",
            "Model: \"model\"\n",
            "__________________________________________________________________________________________________\n",
            "Layer (type)                    Output Shape         Param #     Connected to                     \n",
            "==================================================================================================\n",
            "input_1 (InputLayer)            [(None, 50)]         0                                            \n",
            "__________________________________________________________________________________________________\n",
            "lambda (Lambda)                 (32, None, 1024)     0           input_1[0][0]                    \n",
            "__________________________________________________________________________________________________\n",
            "bidirectional (Bidirectional)   (32, None, 1024)     6295552     lambda[0][0]                     \n",
            "__________________________________________________________________________________________________\n",
            "bidirectional_1 (Bidirectional) (32, None, 1024)     6295552     bidirectional[0][0]              \n",
            "__________________________________________________________________________________________________\n",
            "add (Add)                       (32, None, 1024)     0           bidirectional[0][0]              \n",
            "                                                                 bidirectional_1[0][0]            \n",
            "__________________________________________________________________________________________________\n",
            "time_distributed (TimeDistribut (None, None, 9)      9225        add[0][0]                        \n",
            "==================================================================================================\n",
            "Total params: 12,600,329\n",
            "Trainable params: 12,600,329\n",
            "Non-trainable params: 0\n",
            "__________________________________________________________________________________________________\n",
            "Training sequences: 27714\n",
            "Testing sequences: 6929\n"
          ]
        }
      ],
      "source": [
        "#@title ## Load Dataset and Model\n",
        "#@markdown ---\n",
        "import numpy as np\n",
        "import tensorflow as tf\n",
        "tf.logging.set_verbosity(tf.logging.ERROR)\n",
        "import importlib\n",
        "from IPython.display import clear_output \n",
        "\n",
        "from sklearn.model_selection import train_test_split\n",
        "\n",
        "from utils.readers import read_i2b2_data\n",
        "import utils.spec_tokenizers\n",
        "import tensorflow_hub as hub\n",
        "from utils.data_augment import augment, augment_documents, merge_aug\n",
        "from tensorflow.keras.models import save_model, load_model\n",
        "\n",
        "clear_output()\n",
        "#@markdown ### Enter path to data:\n",
        "path = \"dataset/input/\" #@param {type:\"string\"}\n",
        "documents = read_i2b2_data(path)\n",
        "print(f'Loaded {len(documents)} documents')\n",
        "tokens_labels = utils.spec_tokenizers.tokenize_to_seq(documents)\n",
        "print(f'Loaded {len(tokens_labels)} sequences')\n",
        "\n",
        "#@markdown ### Select or enter algorithm name:\n",
        "algorithm = 'NER_BiLSTM_ELMo_i2b2'#@param [\"NER_CRF\", \"NER_BiLSTM_Glove_i2b2\", \"NER_BiLSTM_ELMo_i2b2\", \"NER_BiLSTM_ELMo_i2b2_pad_mask\"] {allow-input: true}\n",
        "#@markdown Algorithm name should be the name of a file in `/ner_plugins/`\n",
        "\n",
        "#@markdown Example: If your algorithm is located in `/ner_plugins/NER_BiLSTM_ELMo_i2b2.py`, enter `NER_BiLSTM_ELMo_i2b2`\n",
        "\n",
        "package = \"ner_plugins.\"+ algorithm\n",
        "inpor = importlib.import_module(package)\n",
        "# find a class and instantiate\n",
        "class_ = getattr(inpor, algorithm)\n",
        "instance = class_()\n",
        "\n",
        "# clear_output()\n",
        "# instance.model.summary()\n",
        "\n",
        "#@markdown ## Process data for training/testing\n",
        "X,Y = instance.transform_sequences(tokens_labels)\n",
        "#@markdown ---\n",
        "#@markdown ### Enter percent size of test set (default: 0.2):\n",
        "test_size = 0.2 #@param {type:\"slider\", min:0.0, max:1, step:0.1}\n",
        "#@markdown ### Enter random seed (default: 42):\n",
        "random_state = 42 #@param {type:\"integer\"}\n",
        "X_train,X_test, Y_train,Y_test = train_test_split(X,Y,test_size=test_size,random_state=random_state)\n",
        "print(f\"Training sequences: {len(X_train)}\")\n",
        "print(f\"Testing sequences: {len(X_test)}\")\n",
        "#@markdown ---\n",
        "#@markdown ## Augment training data (Optional)\n",
        "#@markdown ### Check this box if training data should be augmented:\n",
        "augment_data = False #@param {type:\"boolean\"}\n",
        "if augment_data:\n",
        "    X_train_aug, Y_train_aug = augment(X_train,Y_train)\n",
        "    print(f\"Augmented training sequences: {len(X_train_aug)}\")\n",
        "    X_train += X_train_aug\n",
        "    Y_train += Y_train_aug\n",
        "    print(f\"Total training sequences: {len(X_train)}\")"
      ]
    },
    {
      "cell_type": "code",
      "execution_count": 3,
      "metadata": {
        "id": "I7PNPhBH07Fx"
      },
      "outputs": [],
      "source": [
        "#@title ## Load weights (Optional)\n",
        "#@markdown ---\n",
        "load_weights = True #@param {type:\"boolean\"}\n",
        "#@markdown ### Enter path to `.h5` file containing model weights:\n",
        "weights_path = 'Models/NER_BiLSTM_ELMo_i2b2.h5' #@param {type:\"string\"}\n",
        "weights_path = weights_path if weights_path else f'/content/gdrive/My Drive/Mask/{algorithm}.h5'\n",
        "if load_weights:\n",
        "    instance.model.load_weights(weights_path)\n",
        "#@markdown To use files from Google Drive, append `/content/gdrive/My Drive/` to file path in Google Drive.\n",
        "\n",
        "#@markdown Leave blank to default to saving at `/content/gdrive/My Drive/Mask/{algorithm_name}.h5`"
      ]
    },
    {
      "cell_type": "markdown",
      "metadata": {
        "id": "wG3xqVwkyrbD"
      },
      "source": [
        "## Train Model"
      ]
    },
    {
      "cell_type": "code",
      "execution_count": null,
      "metadata": {
        "id": "9g-__A9d3O31"
      },
      "outputs": [],
      "source": [
        "#@title ## Train Model\n",
        "#@markdown ---\n",
        "#@markdown ### Enter number of training epochs (default: 5):\n",
        "epochs = 5 #@param {type:\"integer\"}\n",
        "instance.learn(X_train,Y_train,epochs)"
      ]
    },
    {
      "cell_type": "markdown",
      "metadata": {
        "id": "gfrO71YFytQy"
      },
      "source": [
        "## Evaluate Model"
      ]
    },
    {
      "cell_type": "code",
      "execution_count": null,
      "metadata": {
        "colab": {
          "base_uri": "https://localhost:8080/",
          "height": 1000
        },
        "id": "jieAMRwC7Sph",
        "outputId": "c1a74908-076a-4007-c05a-ac65609ba54c"
      },
      "outputs": [
        {
          "name": "stderr",
          "output_type": "stream",
          "text": [
            "/usr/local/lib/python3.7/dist-packages/sklearn/metrics/_classification.py:1318: UndefinedMetricWarning: Precision and F-score are ill-defined and being set to 0.0 in labels with no predicted samples. Use `zero_division` parameter to control this behavior.\n",
            "  _warn_prf(average, modifier, msg_start, len(result))\n",
            "/usr/local/lib/python3.7/dist-packages/sklearn/metrics/_classification.py:1318: UndefinedMetricWarning: Precision and F-score are ill-defined and being set to 0.0 in labels with no predicted samples. Use `zero_division` parameter to control this behavior.\n",
            "  _warn_prf(average, modifier, msg_start, len(result))\n",
            "/usr/local/lib/python3.7/dist-packages/sklearn/metrics/_classification.py:1318: UndefinedMetricWarning: Precision and F-score are ill-defined and being set to 0.0 in labels with no predicted samples. Use `zero_division` parameter to control this behavior.\n",
            "  _warn_prf(average, modifier, msg_start, len(result))\n"
          ]
        },
        {
          "name": "stdout",
          "output_type": "stream",
          "text": [
            "              precision    recall  f1-score   support\n",
            "\n",
            "           O       1.00      1.00      1.00    341829\n",
            "          ID       0.92      0.98      0.95       162\n",
            "         PHI       0.00      0.00      0.00         4\n",
            "        NAME       0.99      0.99      0.99      1764\n",
            "     CONTACT       0.95      0.98      0.96        96\n",
            "        DATE       0.99      1.00      0.99      1362\n",
            "         AGE       1.00      1.00      1.00       209\n",
            "  PROFESSION       0.99      1.00      0.99        81\n",
            "    LOCATION       0.95      0.98      0.97       943\n",
            "\n",
            "    accuracy                           1.00    346450\n",
            "   macro avg       0.87      0.88      0.87    346450\n",
            "weighted avg       1.00      1.00      1.00    346450\n",
            "\n"
          ]
        },
        {
          "name": "stderr",
          "output_type": "stream",
          "text": [
            "/usr/local/lib/python3.7/dist-packages/sklearn/metrics/_classification.py:1318: UndefinedMetricWarning: Precision and F-score are ill-defined and being set to 0.0 in labels with no predicted samples. Use `zero_division` parameter to control this behavior.\n",
            "  _warn_prf(average, modifier, msg_start, len(result))\n",
            "/usr/local/lib/python3.7/dist-packages/sklearn/metrics/_classification.py:1318: UndefinedMetricWarning: Precision and F-score are ill-defined and being set to 0.0 in labels with no predicted samples. Use `zero_division` parameter to control this behavior.\n",
            "  _warn_prf(average, modifier, msg_start, len(result))\n",
            "/usr/local/lib/python3.7/dist-packages/sklearn/metrics/_classification.py:1318: UndefinedMetricWarning: Precision and F-score are ill-defined and being set to 0.0 in labels with no predicted samples. Use `zero_division` parameter to control this behavior.\n",
            "  _warn_prf(average, modifier, msg_start, len(result))\n"
          ]
        },
        {
          "name": "stdout",
          "output_type": "stream",
          "text": [
            "              precision    recall  f1-score   support\n",
            "\n",
            "          ID       0.92      0.98      0.95       162\n",
            "         PHI       0.00      0.00      0.00         4\n",
            "        NAME       0.99      0.99      0.99      1764\n",
            "     CONTACT       0.95      0.98      0.96        96\n",
            "        DATE       0.99      1.00      0.99      1362\n",
            "         AGE       1.00      1.00      1.00       209\n",
            "  PROFESSION       0.99      1.00      0.99        81\n",
            "    LOCATION       0.95      0.98      0.97       943\n",
            "\n",
            "   micro avg       0.98      0.99      0.98      4621\n",
            "   macro avg       0.85      0.87      0.86      4621\n",
            "weighted avg       0.98      0.99      0.98      4621\n",
            "\n"
          ]
        },
        {
          "data": {
            "image/png": "[encoded data removed]",
            "text/plain": [
              "<Figure size 720x720 with 2 Axes>"
            ]
          },
          "metadata": {
            "needs_background": "light"
          },
          "output_type": "display_data"
        }
      ],
      "source": [
        "#@title ## Test Model\n",
        "instance.evaluate(X_test,Y_test)"
      ]
    },
    {
      "cell_type": "code",
      "execution_count": 5,
      "metadata": {
        "colab": {
          "base_uri": "https://localhost:8080/"
        },
        "id": "1seKB05w7j3q",
        "outputId": "4316bde3-5185-4487-9974-bdbbec5041aa"
      },
      "outputs": [
        {
          "name": "stdout",
          "output_type": "stream",
          "text": [
            "\u001b[95mID\u001b[0m\n",
            "\u001b[4mPHI\u001b[0m\n",
            "\u001b[96mNAME\u001b[0m\n",
            "\u001b[92mCONTACT\u001b[0m\n",
            "\u001b[93mDATE\u001b[0m\n",
            "\u001b[91mAGE\u001b[0m\n",
            "\u001b[1mPROFESSION\u001b[0m\n",
            "\u001b[94mLOCATION\u001b[0m\n",
            "(This) (is) (not) (a) (sentence) (.) \n",
            "(I) (am) (a) (cat) (.) \n",
            "\u001b[96m(Fred) \u001b[0m(is) (a) (dog) (.) \n",
            "(We) (all) (live) (on) \u001b[94m(Maple) \u001b[0m\u001b[94m(street) \u001b[0m(.) \n",
            "(Call) (me) (:) \u001b[92m(778) \u001b[0m\u001b[92m(778) \u001b[0m\u001b[92m(7788) \u001b[0m\n"
          ]
        }
      ],
      "source": [
        "#@title ## Evaluate Model\n",
        "#@markdown ---\n",
        "#@markdown Enter text to label\n",
        "from utils.doc_preview import preview_token_seq, show_legend\n",
        "text = \"This is not a sentence. I am a cat. Fred is a dog. We all live on Maple street. Call me: 778 778 7788\" #@param {type:\"string\"}\n",
        "seqs = instance.perform_NER(text)\n",
        "show_legend()\n",
        "for seq in seqs:\n",
        "    print(preview_token_seq(seq))"
      ]
    },
    {
      "cell_type": "markdown",
      "metadata": {
        "id": "Oagoz_m4yxjf"
      },
      "source": [
        "## Save Model"
      ]
    },
    {
      "cell_type": "code",
      "execution_count": null,
      "metadata": {
        "id": "_mhZZS2d3zh2"
      },
      "outputs": [],
      "source": [
        "#@title ## Save weights (Optional)\n",
        "#@markdown ---\n",
        "save_weights = False #@param {type:\"boolean\"}\n",
        "#@markdown ### Enter path to `.h5` file to save weights:\n",
        "#@markdown **Existing files will be overwritten.**\n",
        "weights_path = '' #@param {type:\"string\"}\n",
        "weights_path = weights_path if weights_path else f'/content/gdrive/My Drive/Mask/{algorithm}.h5'\n",
        "if save_weights:\n",
        "    instance.model.save_weights(weights_path)\n",
        "#@markdown To use files from Google Drive, append `/content/gdrive/My Drive/` to file path in Google Drive.\n",
        "\n",
        "#@markdown Leave blank to default to saving at `/content/gdrive/My Drive/Mask/{algorithm_name}.h5`"
      ]
    }
  ],
  "metadata": {
    "accelerator": "GPU",
    "colab": {
      "collapsed_sections": [
        "yXlVZb9Jw5pJ",
        "S-eK6gSL9HnJ"
      ],
      "name": "Mask Demo V2",
      "provenance": []
    },
    "gpuClass": "standard",
    "kernelspec": {
      "display_name": "Python 3.8.0 64-bit",
      "language": "python",
      "name": "python3"
    },
    "language_info": {
      "name": "python",
      "version": "3.8.0"
    },
    "vscode": {
      "interpreter": {
        "hash": "c426d3892c2057fc51860d649aeb6768667ef17e7800411a57a592956e9f27a2"
      }
    }
  },
  "nbformat": 4,
  "nbformat_minor": 0
}
