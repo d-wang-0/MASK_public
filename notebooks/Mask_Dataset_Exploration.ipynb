{
  "cells": [
    {
      "cell_type": "markdown",
      "metadata": {
        "id": "WMMMSFtI7SOW"
      },
      "source": [
        "# Setup"
      ]
    },
    {
      "cell_type": "markdown",
      "metadata": {
        "id": "P9UGGdfxxRvO"
      },
      "source": [
        "## Clone Repo"
      ]
    },
    {
      "cell_type": "code",
      "execution_count": null,
      "metadata": {
        "colab": {
          "base_uri": "https://localhost:8080/"
        },
        "id": "-xKlk-43v5fq",
        "outputId": "c9e0a99f-e3e3-44c3-c846-6d59628696e2"
      },
      "outputs": [],
      "source": [
        "!git clone https://github.com/d-wang-0/mask_public.git\n",
        "%cd mask_public/\n",
        "!git checkout colab"
      ]
    },
    {
      "cell_type": "markdown",
      "metadata": {
        "id": "yXlVZb9Jw5pJ"
      },
      "source": [
        "## Install Requirements"
      ]
    },
    {
      "cell_type": "code",
      "execution_count": null,
      "metadata": {
        "colab": {
          "base_uri": "https://localhost:8080/"
        },
        "id": "-7xDKND99E5G",
        "outputId": "f33b1e24-cbf1-4644-f704-cf465e953d47"
      },
      "outputs": [],
      "source": [
        "!pip install gdown\n",
        "!pip install plotly==5.10.0\n",
        "!pip install pandas\n",
        "!pip install nltk>=3.4.5"
      ]
    },
    {
      "cell_type": "markdown",
      "metadata": {
        "id": "S-eK6gSL9HnJ"
      },
      "source": [
        "## Download Dataset\n",
        "1. Download `2014_training-PHI-Gold-Set1.tar.gz` and `training-PHI-Gold-Set2.tar.gz` from the i2b2 dataset\n",
        "2. Upload them to google drive\n",
        "3. Share the files on drive so \"Anyone on the Internet with the link can view\"\n",
        "4. Paste links to the shared files here and it will be extracted and placed in the correct locations."
      ]
    },
    {
      "cell_type": "code",
      "execution_count": null,
      "metadata": {
        "id": "Va3IY8YE9-50"
      },
      "outputs": [],
      "source": [
        "import gdown\n",
        "url1 = \"\" #@param {type:\"string\"}\n",
        "gdown.download(url1, \"set1.tar.gz\", fuzzy=True)\n",
        "url2 = \"\" #@param {type:\"string\"}\n",
        "gdown.download(url2, \"set2.tar.gz\", fuzzy=True)"
      ]
    },
    {
      "cell_type": "code",
      "execution_count": null,
      "metadata": {
        "id": "42phtvXX_LH1"
      },
      "outputs": [],
      "source": [
        "!rm dataset/input/*\n",
        "!tar -xf set1.tar.gz --strip=1 --directory dataset/input/ training-PHI-Gold-Set1/\n",
        "!tar -xf set2.tar.gz --strip=1 --directory dataset/input/ training-PHI-Gold-Set2/ "
      ]
    },
    {
      "cell_type": "markdown",
      "metadata": {
        "id": "XBRcM4cYavEC"
      },
      "source": [
        "# Explore Data"
      ]
    },
    {
      "cell_type": "markdown",
      "metadata": {
        "id": "ERuAcs97a0_Y"
      },
      "source": [
        "## Load Data"
      ]
    },
    {
      "cell_type": "code",
      "execution_count": null,
      "metadata": {
        "id": "YanyoTp0awZH"
      },
      "outputs": [],
      "source": [
        "from utils.readers import read_i2b2_data\n",
        "import utils.spec_tokenizers\n",
        "import plotly.express as px\n",
        "import pandas as pd\n",
        "from utils.spec_tokenizers import *\n",
        "import random\n",
        "\n",
        "documents = read_i2b2_data('dataset/input/')\n",
        "tokens_labels = utils.spec_tokenizers.tokenize_to_seq(documents)"
      ]
    },
    {
      "cell_type": "markdown",
      "metadata": {
        "id": "IVYrRhPPa4WS"
      },
      "source": [
        "## See full tag examples"
      ]
    },
    {
      "cell_type": "code",
      "execution_count": null,
      "metadata": {
        "id": "yEIk5IrBa75L"
      },
      "outputs": [],
      "source": [
        "# Sort all full tagged text into an object\n",
        "full_tag_examples = {}\n",
        "for document in documents:\n",
        "    for tag in document['tags']:\n",
        "        if tag['tag'] not in full_tag_examples:\n",
        "            full_tag_examples[tag['tag']] = [tag['text']]\n",
        "        full_tag_examples[tag['tag']].append(tag['text'])"
      ]
    },
    {
      "cell_type": "code",
      "execution_count": null,
      "metadata": {
        "colab": {
          "base_uri": "https://localhost:8080/"
        },
        "id": "yj3a9vP8bDqQ",
        "outputId": "83208b95-b44e-4949-8fbb-8d8d7c85dc12"
      },
      "outputs": [],
      "source": [
        "tag = 'DATE' #@param [\"DATE\", \"ID\", \"NAME\", \"AGE\", \"CONTACT\", \"LOCATION\", \"PROFESSION\", \"PHI\"]\n",
        "num_examples = 5 #@param {type:\"integer\"}\n",
        "random.sample(full_tag_examples[tag], num_examples)"
      ]
    },
    {
      "cell_type": "markdown",
      "metadata": {
        "id": "LOaAJqMddDrv"
      },
      "source": [
        "## See tagged token examples"
      ]
    },
    {
      "cell_type": "code",
      "execution_count": null,
      "metadata": {
        "id": "WDpopK8zdGdH"
      },
      "outputs": [],
      "source": [
        "tag_examples = {}\n",
        "for sequence in tokens_labels:\n",
        "    for token in sequence:\n",
        "        word = token[0]\n",
        "        tag = token[1]\n",
        "        if tag not in tag_examples:\n",
        "            tag_examples[tag] = [word]\n",
        "        else:\n",
        "            tag_examples[tag].append(word)"
      ]
    },
    {
      "cell_type": "code",
      "execution_count": null,
      "metadata": {
        "colab": {
          "base_uri": "https://localhost:8080/"
        },
        "id": "zij9glc4dJ1-",
        "outputId": "7b6dfc74-6881-4f67-deeb-b25462731d9c"
      },
      "outputs": [],
      "source": [
        "tag = 'NAME' #@param [\"DATE\", \"ID\", \"NAME\", \"AGE\", \"CONTACT\", \"LOCATION\", \"PROFESSION\", \"PHI\"]\n",
        "num_examples = 5 #@param {type:\"integer\"}\n",
        "random.sample(tag_examples[tag], num_examples)"
      ]
    },
    {
      "cell_type": "markdown",
      "metadata": {
        "id": "Ky_P26tZdTFN"
      },
      "source": [
        "## See number of tags"
      ]
    },
    {
      "cell_type": "code",
      "execution_count": null,
      "metadata": {
        "colab": {
          "base_uri": "https://localhost:8080/",
          "height": 542
        },
        "id": "v2FCHy1UdVPI",
        "outputId": "e8bcee67-92e9-4361-a4de-27ec6fc219c8"
      },
      "outputs": [],
      "source": [
        "include_O = True #@param {type:\"boolean\"}\n",
        "start = 1\n",
        "if include_O:\n",
        "    start = 0\n",
        "px.bar(x=list(tag_examples.keys())[start:], y=[len(tag_examples[x]) for x in tag_examples][start:],labels={\n",
        "                     \"x\": \"Tags\",\n",
        "                     \"y\": \"Token Occurrences\"\n",
        "                 },\n",
        "                 title = \"Number of token occurrences for each tag in the dataset\",\n",
        "                 template = \"plotly_dark\",\n",
        "       width=700)"
      ]
    },
    {
      "cell_type": "code",
      "execution_count": null,
      "metadata": {
        "colab": {
          "base_uri": "https://localhost:8080/",
          "height": 542
        },
        "id": "KLWBgC_tduDU",
        "outputId": "d64c7f0c-7aa1-4140-822b-90cd02c1e522"
      },
      "outputs": [],
      "source": [
        "px.bar(x=list(full_tag_examples.keys())[1:], y=[len(full_tag_examples[x]) for x in full_tag_examples][1:],labels={\n",
        "                     \"x\": \"Tags\",\n",
        "                     \"y\": \"Tag Occurrences\"\n",
        "                 },\n",
        "                 title = \"Number of tag occurrences for each tag in the dataset\",\n",
        "                 template = \"plotly_dark\",\n",
        "                width=700)"
      ]
    },
    {
      "cell_type": "code",
      "execution_count": null,
      "metadata": {
        "colab": {
          "base_uri": "https://localhost:8080/",
          "height": 542
        },
        "id": "UCN1jKhjeSau",
        "outputId": "d3fc7cb5-faec-40bb-db69-4bdbed386945"
      },
      "outputs": [],
      "source": [
        "include_O = False #@param {type:\"boolean\"}\n",
        "start = 1\n",
        "if include_O:\n",
        "    start = 0\n",
        "px.pie(names=list(tag_examples.keys())[start:], values=[len(tag_examples[x]) for x in tag_examples][start:], width=700, template = \"plotly_dark\")"
      ]
    },
    {
      "cell_type": "markdown",
      "metadata": {
        "id": "tL4Bbv9zejoX"
      },
      "source": [
        "## Length of documents"
      ]
    },
    {
      "cell_type": "code",
      "execution_count": null,
      "metadata": {
        "id": "T-Mmmyl8eogz"
      },
      "outputs": [],
      "source": [
        "# record the length and number of occurrences of each tag for each document\n",
        "stats = {}\n",
        "for tag in tag_examples:\n",
        "    stats[tag] = []\n",
        "stats['length'] = []\n",
        "for document in documents:\n",
        "    stats['length'].append(len(document[\"text\"]))\n",
        "    document_tags_count = {}\n",
        "    for tag in document[\"tags\"]:\n",
        "        if tag[\"tag\"] in document_tags_count:\n",
        "            document_tags_count[tag[\"tag\"]] += 1\n",
        "        else:\n",
        "            document_tags_count[tag[\"tag\"]] = 1\n",
        "    for tag in tag_examples:\n",
        "        if tag in document_tags_count:\n",
        "            stats[tag].append(document_tags_count[tag])\n",
        "        else:\n",
        "            stats[tag].append(0)"
      ]
    },
    {
      "cell_type": "code",
      "execution_count": null,
      "metadata": {
        "colab": {
          "base_uri": "https://localhost:8080/",
          "height": 517
        },
        "id": "Nw6KPPbOelka",
        "outputId": "b99ed84f-e8b2-42b9-fec5-fd9037487056"
      },
      "outputs": [],
      "source": [
        "df = pd.DataFrame(data=stats)\n",
        "px.box(df, y=\"length\", width=700, height=500, title=\"Length of the documents (characters)\", template=\"plotly_dark\",labels={\n",
        "    'length':'Characters'\n",
        "})"
      ]
    },
    {
      "cell_type": "markdown",
      "metadata": {
        "id": "iW227_dOfCRC"
      },
      "source": [
        "## Length of sequences"
      ]
    },
    {
      "cell_type": "code",
      "execution_count": null,
      "metadata": {
        "colab": {
          "base_uri": "https://localhost:8080/",
          "height": 517
        },
        "id": "5iLMl5MjfE-c",
        "outputId": "b3f6cb0b-1beb-4336-c28e-362479d77c19"
      },
      "outputs": [],
      "source": [
        "sequence_lengths = [len(seq) for seq in tokens_labels]\n",
        "px.box(y=sequence_lengths, width=700, height=500, title=\"Length of sequences (tokens)\", template=\"plotly_dark\",labels={'y':\"Tokens\"})"
      ]
    },
    {
      "cell_type": "markdown",
      "metadata": {
        "id": "ZtZf4Cd3fK6q"
      },
      "source": [
        "## Tag occurences per document"
      ]
    },
    {
      "cell_type": "code",
      "execution_count": null,
      "metadata": {
        "colab": {
          "base_uri": "https://localhost:8080/"
        },
        "id": "dMmtCbqRfKGI",
        "outputId": "7d9ec123-05d1-4658-9ed7-69296c699d0d"
      },
      "outputs": [],
      "source": [
        "px.box(df, y=list(tag_examples.keys())[1:], width=700, height=500, title=\"Tags occurrences in documents\", template=\"plotly_dark\", points=False)"
      ]
    }
  ],
  "metadata": {
    "colab": {
      "name": "Mask Dataset Exploration",
      "provenance": []
    },
    "kernelspec": {
      "display_name": "Python 3.8.0 64-bit",
      "language": "python",
      "name": "python3"
    },
    "language_info": {
      "name": "python",
      "version": "3.8.0"
    },
    "vscode": {
      "interpreter": {
        "hash": "c426d3892c2057fc51860d649aeb6768667ef17e7800411a57a592956e9f27a2"
      }
    }
  },
  "nbformat": 4,
  "nbformat_minor": 0
}
